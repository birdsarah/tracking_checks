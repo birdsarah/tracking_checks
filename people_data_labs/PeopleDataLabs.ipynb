{
 "cells": [
  {
   "cell_type": "code",
   "execution_count": null,
   "metadata": {},
   "outputs": [],
   "source": [
    "import requests\n",
    "import vobject\n",
    "import json"
   ]
  },
  {
   "cell_type": "code",
   "execution_count": null,
   "metadata": {},
   "outputs": [],
   "source": [
    "API_KEY = 'FILL HERE'"
   ]
  },
  {
   "cell_type": "markdown",
   "metadata": {},
   "source": [
    "Examples\n",
    "\n",
    "    https://api.peopledatalabs.com/v4/person?email=sean@peopledatalabs.com&pretty=true \n",
    "    https://api.peopledatalabs.com/v4/person?profile=linkedin.com/in/seanthorne&pretty=true \n",
    "    https://api.peopledatalabs.com/v4/person?name=Sean Thorne&location=San Francisco&company=People Data Labs&pretty=true\n",
    "    \n",
    "    \n",
    "    pdl_url = \"https://api.peopledatalabs.com/v4/person\"\n",
    "\n",
    "    params = {\n",
    "        \"api_key\": API_KEY,\n",
    "        \"name\": [\"sean thorne\"],    \n",
    "        \"company\": [\"peopledatalabs.com\"]\n",
    "    }\n",
    "\n",
    "    params = {\n",
    "        \"api_key\": API_KEY,\n",
    "        \"profile\": [\"linkedin.com/in/seanthorne\"]\n",
    "    }\n",
    "\n",
    "    json_response = requests.get(pdl_url,  params=params).json()"
   ]
  },
  {
   "cell_type": "code",
   "execution_count": null,
   "metadata": {},
   "outputs": [],
   "source": [
    "pdl_url = \"https://api.peopledatalabs.com/v4/person\"\n",
    "\n",
    "params = {\n",
    "    \"api_key\": API_KEY,\n",
    "    #\"name\": \"a name\",\n",
    "    #\"location\": \"a location\",\n",
    "    #\"company\": \"a company\",\n",
    "    #\"email\": \"example email\"\n",
    "}\n",
    "\n",
    "json_response = requests.get(pdl_url,  params=params).json()"
   ]
  },
  {
   "cell_type": "code",
   "execution_count": null,
   "metadata": {},
   "outputs": [],
   "source": [
    "data = json_response['data']\n",
    "data.keys()"
   ]
  },
  {
   "cell_type": "markdown",
   "metadata": {},
   "source": [
    "Open my contacts and see who's in this dataset."
   ]
  },
  {
   "cell_type": "code",
   "execution_count": null,
   "metadata": {},
   "outputs": [],
   "source": [
    "contacts = open('export.vcf', 'r').read()\n",
    "emails = []\n",
    "for card in vobject.readComponents(contacts):\n",
    "    emails.append(card.email.value)"
   ]
  },
  {
   "cell_type": "code",
   "execution_count": null,
   "metadata": {},
   "outputs": [],
   "source": [
    "data = []"
   ]
  },
  {
   "cell_type": "code",
   "execution_count": null,
   "metadata": {},
   "outputs": [],
   "source": [
    "for email in emails:\n",
    "    params = {\n",
    "        \"api_key\": API_KEY,\n",
    "        \"email\": email,\n",
    "    }\n",
    "    json_response = requests.get(pdl_url,  params=params).json()\n",
    "    if json_response['status'] == 200:\n",
    "        data.append(json_response['data'])"
   ]
  },
  {
   "cell_type": "code",
   "execution_count": null,
   "metadata": {},
   "outputs": [],
   "source": [
    "with open('data.json', 'w') as f:\n",
    "    f.write(json.dumps(data))"
   ]
  },
  {
   "cell_type": "code",
   "execution_count": null,
   "metadata": {},
   "outputs": [],
   "source": [
    "for i, entry in enumerate(data):\n",
    "    if len(entry['phone_numbers']) > 0:\n",
    "        print(i, entry['names'][0]['clean'])"
   ]
  },
  {
   "cell_type": "code",
   "execution_count": null,
   "metadata": {},
   "outputs": [],
   "source": [
    "data[25]['emails']"
   ]
  },
  {
   "cell_type": "code",
   "execution_count": null,
   "metadata": {},
   "outputs": [],
   "source": []
  }
 ],
 "metadata": {
  "kernelspec": {
   "display_name": "Python 3",
   "language": "python",
   "name": "python3"
  },
  "language_info": {
   "codemirror_mode": {
    "name": "ipython",
    "version": 3
   },
   "file_extension": ".py",
   "mimetype": "text/x-python",
   "name": "python",
   "nbconvert_exporter": "python",
   "pygments_lexer": "ipython3",
   "version": "3.7.6"
  }
 },
 "nbformat": 4,
 "nbformat_minor": 4
}
